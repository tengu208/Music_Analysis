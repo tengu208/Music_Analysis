{
 "cells": [
  {
   "cell_type": "markdown",
   "metadata": {},
   "source": [
    "# Music Preferences: How Can it Help Spotify Advertise Better?"
   ]
  },
  {
   "attachments": {},
   "cell_type": "markdown",
   "metadata": {},
   "source": [
    "### **Research Questions**\n",
    "1. How does the data on music preference compare to Billboards?\n",
    "2. Does a person's preference for Pop, Rock, HipHop/Rap, Latin and Techno music differ based on their gender?\n",
    "3. Does a person's preference for Pop, Rock, HipHop/Rap, Latin and Techno music differ based on their age?\n",
    "4. Can a person's preference for Pop, Rock, HipHop/Rap, Latin and Techno music determine their preference for Action, Animated, SciFi, Romantic, Comedy movies?\n",
    "5. Can a person's spending habits influence their preference for Pop, Rock, HipHop/Rap, Latin and Techno music?\n",
    "6. Can a person's living environment affect their preference for Pop, Rock, HipHop/Rap, Latin and Techno music?\n",
    "\n",
    "### **Data Source**\n",
    "The data used for this analysis was taken from *Young Peoples Survey* on **Kaggle**. This dataset explores the preferences, interests, habits, and opinions of students. \n",
    "\n",
    "### **Data Key**\n",
    "| Feature Name | Definition | Key |\n",
    "| ------------ | ---------- | --- |\n",
    "| Music | _I enjoy listening to music._ | __Strongly disagree 1-2-3-4-5 Strongly agree__ |\n",
    "| Slow songs or fast songs | _Music I prefer_ | __Slow paced music 1-2-3-4-5 Fast paced music__ |\n",
    "| Pop | _Pop music_ | __Don't enjoy at all 1-2-3-4-5 Enjoy very much__ | \n",
    "| Rock | _Rock music_ | __Don't enjoy at all 1-2-3-4-5 Enjoy very much__ |\n",
    "| Hiphop, rap | _Hip Hop/ Rap music_ | __Don't enjoy at all 1-2-3-4-5 Enjoy very much__ |\n",
    "| Latino | _Latino music_ | __Don't enjoy at all 1-2-3-4-5 Enjoy very much__ |\n",
    "| Techno, Trance | _Techno, Trance music_ | __Don't enjoy at all 1-2-3-4-5 Enjoy very much__ |\n",
    "| Comedy | _Comedy movie_ | __Don't enjoy at all 1-2-3-4-5 Enjoy very much__ |\n",
    "| Romantic | _Romantic movie_ | __Don't enjoy at all 1-2-3-4-5 Enjoy very much__ |\n",
    "| Sci-fi | _Sci-fi movie_ | __Don't enjoy at all 1-2-3-4-5 Enjoy very much__ |\n",
    "| Animated | _Animated movie_ | __Don't enjoy at all 1-2-3-4-5 Enjoy very much__ |\n",
    "| Action | _Action movie_ | __Don't enjoy at all 1-2-3-4-5 Enjoy very much__ |\n",
    "| Finances | _I save all the money I can_ | __Strongly disagree 1-2-3-4-5 Strongly agree__ |\n",
    "| Shopping Centers | _I enjoy going to large shopping centres._ | __Strongly disagree 1-2-3-4-5 Strongly agree__ | \n",
    "| Entertainment spending| _I spend a lot of money on partying and socializing._ | __Strongly disagree 1-2-3-4-5 Strongly agree__ |\n",
    "| Spending on Looks | _I spend a lot of money on my appearance._ | __Strongly disagree 1-2-3-4-5 Strongly agree__ |\n",
    "| Spending on Gadgets | _I spend a lot of money on gadgets._ | __Strongly disagree 1-2-3-4-5 Strongly agree__ |\n",
    "| Age | _Age_ | __Number__ |\n",
    "| Gender | _Female or Male_ | __Female - Male__ |\n",
    "| Village-town | _I spent most of my childhood in a..._ | __City - village__ |\n",
    "\n",
    "\n",
    "### **Graph Key**\n",
    "_Pop Music_: Salmon<br>\n",
    "_Rock Music_: Doger Blue<br>\n",
    "_Techno/Trance_: Lime<br>\n",
    "_Hip Hop/Rap_: Yellow<br>\n",
    "_Latino_: Red<br>\n",
    "_Male_: Blue<br>\n",
    "_Female_: Pink<br>"
   ]
  },
  {
   "cell_type": "code",
   "execution_count": 1,
   "metadata": {},
   "outputs": [],
   "source": [
    "import pandas as pd\n",
    "import matplotlib.pyplot as plt\n",
    "import seaborn as sns\n",
    "import math"
   ]
  },
  {
   "cell_type": "markdown",
   "metadata": {},
   "source": [
    "### **Import Data**"
   ]
  },
  {
   "cell_type": "code",
   "execution_count": 2,
   "metadata": {},
   "outputs": [
    {
     "data": {
      "text/html": [
       "<div>\n",
       "<style scoped>\n",
       "    .dataframe tbody tr th:only-of-type {\n",
       "        vertical-align: middle;\n",
       "    }\n",
       "\n",
       "    .dataframe tbody tr th {\n",
       "        vertical-align: top;\n",
       "    }\n",
       "\n",
       "    .dataframe thead th {\n",
       "        text-align: right;\n",
       "    }\n",
       "</style>\n",
       "<table border=\"1\" class=\"dataframe\">\n",
       "  <thead>\n",
       "    <tr style=\"text-align: right;\">\n",
       "      <th></th>\n",
       "      <th>Music</th>\n",
       "      <th>Slow_songs_or_fast_songs</th>\n",
       "      <th>Pop</th>\n",
       "      <th>Rock</th>\n",
       "      <th>Hiphop_Rap</th>\n",
       "      <th>Latino</th>\n",
       "      <th>Techno_Trance</th>\n",
       "      <th>Comedy</th>\n",
       "      <th>Romantic</th>\n",
       "      <th>Sci-fi</th>\n",
       "      <th>...</th>\n",
       "      <th>Folk</th>\n",
       "      <th>Country</th>\n",
       "      <th>Classical_music</th>\n",
       "      <th>Musical</th>\n",
       "      <th>Metal_or_Hardrock</th>\n",
       "      <th>Punk</th>\n",
       "      <th>Opera</th>\n",
       "      <th>Movies</th>\n",
       "      <th>Horror</th>\n",
       "      <th>Thriller</th>\n",
       "    </tr>\n",
       "  </thead>\n",
       "  <tbody>\n",
       "    <tr>\n",
       "      <th>0</th>\n",
       "      <td>5</td>\n",
       "      <td>3</td>\n",
       "      <td>5</td>\n",
       "      <td>5</td>\n",
       "      <td>1</td>\n",
       "      <td>1</td>\n",
       "      <td>1</td>\n",
       "      <td>5</td>\n",
       "      <td>4</td>\n",
       "      <td>4</td>\n",
       "      <td>...</td>\n",
       "      <td>1</td>\n",
       "      <td>2</td>\n",
       "      <td>2</td>\n",
       "      <td>1</td>\n",
       "      <td>1</td>\n",
       "      <td>1</td>\n",
       "      <td>1</td>\n",
       "      <td>5</td>\n",
       "      <td>4</td>\n",
       "      <td>2</td>\n",
       "    </tr>\n",
       "    <tr>\n",
       "      <th>1</th>\n",
       "      <td>4</td>\n",
       "      <td>4</td>\n",
       "      <td>3</td>\n",
       "      <td>5</td>\n",
       "      <td>1</td>\n",
       "      <td>2</td>\n",
       "      <td>1</td>\n",
       "      <td>4</td>\n",
       "      <td>3</td>\n",
       "      <td>4</td>\n",
       "      <td>...</td>\n",
       "      <td>1</td>\n",
       "      <td>1</td>\n",
       "      <td>1</td>\n",
       "      <td>2</td>\n",
       "      <td>4</td>\n",
       "      <td>4</td>\n",
       "      <td>1</td>\n",
       "      <td>5</td>\n",
       "      <td>2</td>\n",
       "      <td>2</td>\n",
       "    </tr>\n",
       "    <tr>\n",
       "      <th>2</th>\n",
       "      <td>5</td>\n",
       "      <td>5</td>\n",
       "      <td>3</td>\n",
       "      <td>5</td>\n",
       "      <td>1</td>\n",
       "      <td>5</td>\n",
       "      <td>1</td>\n",
       "      <td>4</td>\n",
       "      <td>2</td>\n",
       "      <td>4</td>\n",
       "      <td>...</td>\n",
       "      <td>2</td>\n",
       "      <td>3</td>\n",
       "      <td>4</td>\n",
       "      <td>5</td>\n",
       "      <td>3</td>\n",
       "      <td>4</td>\n",
       "      <td>3</td>\n",
       "      <td>5</td>\n",
       "      <td>3</td>\n",
       "      <td>4</td>\n",
       "    </tr>\n",
       "    <tr>\n",
       "      <th>3</th>\n",
       "      <td>5</td>\n",
       "      <td>3</td>\n",
       "      <td>5</td>\n",
       "      <td>3</td>\n",
       "      <td>5</td>\n",
       "      <td>4</td>\n",
       "      <td>2</td>\n",
       "      <td>5</td>\n",
       "      <td>2</td>\n",
       "      <td>3</td>\n",
       "      <td>...</td>\n",
       "      <td>3</td>\n",
       "      <td>2</td>\n",
       "      <td>4</td>\n",
       "      <td>3</td>\n",
       "      <td>1</td>\n",
       "      <td>2</td>\n",
       "      <td>2</td>\n",
       "      <td>5</td>\n",
       "      <td>4</td>\n",
       "      <td>4</td>\n",
       "    </tr>\n",
       "    <tr>\n",
       "      <th>4</th>\n",
       "      <td>5</td>\n",
       "      <td>3</td>\n",
       "      <td>2</td>\n",
       "      <td>5</td>\n",
       "      <td>4</td>\n",
       "      <td>3</td>\n",
       "      <td>1</td>\n",
       "      <td>5</td>\n",
       "      <td>2</td>\n",
       "      <td>3</td>\n",
       "      <td>...</td>\n",
       "      <td>3</td>\n",
       "      <td>2</td>\n",
       "      <td>3</td>\n",
       "      <td>3</td>\n",
       "      <td>5</td>\n",
       "      <td>3</td>\n",
       "      <td>3</td>\n",
       "      <td>5</td>\n",
       "      <td>5</td>\n",
       "      <td>5</td>\n",
       "    </tr>\n",
       "  </tbody>\n",
       "</table>\n",
       "<p>5 rows × 37 columns</p>\n",
       "</div>"
      ],
      "text/plain": [
       "   Music  Slow_songs_or_fast_songs  Pop  Rock  Hiphop_Rap  Latino  \\\n",
       "0      5                         3    5     5           1       1   \n",
       "1      4                         4    3     5           1       2   \n",
       "2      5                         5    3     5           1       5   \n",
       "3      5                         3    5     3           5       4   \n",
       "4      5                         3    2     5           4       3   \n",
       "\n",
       "   Techno_Trance  Comedy  Romantic  Sci-fi  ...  Folk  Country  \\\n",
       "0              1       5         4       4  ...     1        2   \n",
       "1              1       4         3       4  ...     1        1   \n",
       "2              1       4         2       4  ...     2        3   \n",
       "3              2       5         2       3  ...     3        2   \n",
       "4              1       5         2       3  ...     3        2   \n",
       "\n",
       "   Classical_music  Musical  Metal_or_Hardrock  Punk  Opera  Movies Horror  \\\n",
       "0                2        1                  1     1      1       5      4   \n",
       "1                1        2                  4     4      1       5      2   \n",
       "2                4        5                  3     4      3       5      3   \n",
       "3                4        3                  1     2      2       5      4   \n",
       "4                3        3                  5     3      3       5      5   \n",
       "\n",
       "  Thriller  \n",
       "0        2  \n",
       "1        2  \n",
       "2        4  \n",
       "3        4  \n",
       "4        5  \n",
       "\n",
       "[5 rows x 37 columns]"
      ]
     },
     "execution_count": 2,
     "metadata": {},
     "output_type": "execute_result"
    }
   ],
   "source": [
    "#Import original dataset-Research\n",
    "research = pd.read_csv(\"research_final.csv\")\n",
    "research.head()"
   ]
  },
  {
   "cell_type": "code",
   "execution_count": 3,
   "metadata": {},
   "outputs": [
    {
     "data": {
      "text/html": [
       "<div>\n",
       "<style scoped>\n",
       "    .dataframe tbody tr th:only-of-type {\n",
       "        vertical-align: middle;\n",
       "    }\n",
       "\n",
       "    .dataframe tbody tr th {\n",
       "        vertical-align: top;\n",
       "    }\n",
       "\n",
       "    .dataframe thead th {\n",
       "        text-align: right;\n",
       "    }\n",
       "</style>\n",
       "<table border=\"1\" class=\"dataframe\">\n",
       "  <thead>\n",
       "    <tr style=\"text-align: right;\">\n",
       "      <th></th>\n",
       "      <th>Music</th>\n",
       "      <th>Slow_songs_or_fast_songs</th>\n",
       "      <th>Pop</th>\n",
       "      <th>Rock</th>\n",
       "      <th>Hiphop_Rap</th>\n",
       "      <th>Latino</th>\n",
       "      <th>Techno_Trance</th>\n",
       "      <th>Comedy</th>\n",
       "      <th>Romantic</th>\n",
       "      <th>Sci-fi</th>\n",
       "      <th>...</th>\n",
       "      <th>Folk</th>\n",
       "      <th>Country</th>\n",
       "      <th>Classical_music</th>\n",
       "      <th>Musical</th>\n",
       "      <th>Metal_or_Hardrock</th>\n",
       "      <th>Punk</th>\n",
       "      <th>Opera</th>\n",
       "      <th>Movies</th>\n",
       "      <th>Horror</th>\n",
       "      <th>Thriller</th>\n",
       "    </tr>\n",
       "  </thead>\n",
       "  <tbody>\n",
       "    <tr>\n",
       "      <th>0</th>\n",
       "      <td>5</td>\n",
       "      <td>3</td>\n",
       "      <td>5</td>\n",
       "      <td>5</td>\n",
       "      <td>1</td>\n",
       "      <td>1</td>\n",
       "      <td>1</td>\n",
       "      <td>5</td>\n",
       "      <td>4</td>\n",
       "      <td>4</td>\n",
       "      <td>...</td>\n",
       "      <td>1</td>\n",
       "      <td>2</td>\n",
       "      <td>2</td>\n",
       "      <td>1</td>\n",
       "      <td>1</td>\n",
       "      <td>1</td>\n",
       "      <td>1</td>\n",
       "      <td>5</td>\n",
       "      <td>4</td>\n",
       "      <td>2</td>\n",
       "    </tr>\n",
       "    <tr>\n",
       "      <th>1</th>\n",
       "      <td>4</td>\n",
       "      <td>4</td>\n",
       "      <td>3</td>\n",
       "      <td>5</td>\n",
       "      <td>1</td>\n",
       "      <td>2</td>\n",
       "      <td>1</td>\n",
       "      <td>4</td>\n",
       "      <td>3</td>\n",
       "      <td>4</td>\n",
       "      <td>...</td>\n",
       "      <td>1</td>\n",
       "      <td>1</td>\n",
       "      <td>1</td>\n",
       "      <td>2</td>\n",
       "      <td>4</td>\n",
       "      <td>4</td>\n",
       "      <td>1</td>\n",
       "      <td>5</td>\n",
       "      <td>2</td>\n",
       "      <td>2</td>\n",
       "    </tr>\n",
       "    <tr>\n",
       "      <th>2</th>\n",
       "      <td>5</td>\n",
       "      <td>5</td>\n",
       "      <td>3</td>\n",
       "      <td>5</td>\n",
       "      <td>1</td>\n",
       "      <td>5</td>\n",
       "      <td>1</td>\n",
       "      <td>4</td>\n",
       "      <td>2</td>\n",
       "      <td>4</td>\n",
       "      <td>...</td>\n",
       "      <td>2</td>\n",
       "      <td>3</td>\n",
       "      <td>4</td>\n",
       "      <td>5</td>\n",
       "      <td>3</td>\n",
       "      <td>4</td>\n",
       "      <td>3</td>\n",
       "      <td>5</td>\n",
       "      <td>3</td>\n",
       "      <td>4</td>\n",
       "    </tr>\n",
       "    <tr>\n",
       "      <th>3</th>\n",
       "      <td>5</td>\n",
       "      <td>3</td>\n",
       "      <td>5</td>\n",
       "      <td>3</td>\n",
       "      <td>5</td>\n",
       "      <td>4</td>\n",
       "      <td>2</td>\n",
       "      <td>5</td>\n",
       "      <td>2</td>\n",
       "      <td>3</td>\n",
       "      <td>...</td>\n",
       "      <td>3</td>\n",
       "      <td>2</td>\n",
       "      <td>4</td>\n",
       "      <td>3</td>\n",
       "      <td>1</td>\n",
       "      <td>2</td>\n",
       "      <td>2</td>\n",
       "      <td>5</td>\n",
       "      <td>4</td>\n",
       "      <td>4</td>\n",
       "    </tr>\n",
       "    <tr>\n",
       "      <th>4</th>\n",
       "      <td>5</td>\n",
       "      <td>3</td>\n",
       "      <td>2</td>\n",
       "      <td>5</td>\n",
       "      <td>4</td>\n",
       "      <td>3</td>\n",
       "      <td>1</td>\n",
       "      <td>5</td>\n",
       "      <td>2</td>\n",
       "      <td>3</td>\n",
       "      <td>...</td>\n",
       "      <td>3</td>\n",
       "      <td>2</td>\n",
       "      <td>3</td>\n",
       "      <td>3</td>\n",
       "      <td>5</td>\n",
       "      <td>3</td>\n",
       "      <td>3</td>\n",
       "      <td>5</td>\n",
       "      <td>5</td>\n",
       "      <td>5</td>\n",
       "    </tr>\n",
       "  </tbody>\n",
       "</table>\n",
       "<p>5 rows × 37 columns</p>\n",
       "</div>"
      ],
      "text/plain": [
       "   Music  Slow_songs_or_fast_songs  Pop  Rock  Hiphop_Rap  Latino  \\\n",
       "0      5                         3    5     5           1       1   \n",
       "1      4                         4    3     5           1       2   \n",
       "2      5                         5    3     5           1       5   \n",
       "3      5                         3    5     3           5       4   \n",
       "4      5                         3    2     5           4       3   \n",
       "\n",
       "   Techno_Trance  Comedy  Romantic  Sci-fi  ...  Folk  Country  \\\n",
       "0              1       5         4       4  ...     1        2   \n",
       "1              1       4         3       4  ...     1        1   \n",
       "2              1       4         2       4  ...     2        3   \n",
       "3              2       5         2       3  ...     3        2   \n",
       "4              1       5         2       3  ...     3        2   \n",
       "\n",
       "   Classical_music  Musical  Metal_or_Hardrock  Punk  Opera  Movies Horror  \\\n",
       "0                2        1                  1     1      1       5      4   \n",
       "1                1        2                  4     4      1       5      2   \n",
       "2                4        5                  3     4      3       5      3   \n",
       "3                4        3                  1     2      2       5      4   \n",
       "4                3        3                  5     3      3       5      5   \n",
       "\n",
       "  Thriller  \n",
       "0        2  \n",
       "1        2  \n",
       "2        4  \n",
       "3        4  \n",
       "4        5  \n",
       "\n",
       "[5 rows x 37 columns]"
      ]
     },
     "execution_count": 3,
     "metadata": {},
     "output_type": "execute_result"
    }
   ],
   "source": [
    "#Make copy of original dataset to make changes\n",
    "research2 = research.copy()\n",
    "research2.head()"
   ]
  },
  {
   "cell_type": "code",
   "execution_count": 4,
   "metadata": {},
   "outputs": [
    {
     "data": {
      "text/html": [
       "<div>\n",
       "<style scoped>\n",
       "    .dataframe tbody tr th:only-of-type {\n",
       "        vertical-align: middle;\n",
       "    }\n",
       "\n",
       "    .dataframe tbody tr th {\n",
       "        vertical-align: top;\n",
       "    }\n",
       "\n",
       "    .dataframe thead th {\n",
       "        text-align: right;\n",
       "    }\n",
       "</style>\n",
       "<table border=\"1\" class=\"dataframe\">\n",
       "  <thead>\n",
       "    <tr style=\"text-align: right;\">\n",
       "      <th></th>\n",
       "      <th>Music</th>\n",
       "      <th>Slow_songs_or_fast_songs</th>\n",
       "      <th>Pop</th>\n",
       "      <th>Rock</th>\n",
       "      <th>Hiphop_Rap</th>\n",
       "      <th>Latino</th>\n",
       "      <th>Techno_Trance</th>\n",
       "      <th>Comedy</th>\n",
       "      <th>Romantic</th>\n",
       "      <th>Sci-fi</th>\n",
       "      <th>...</th>\n",
       "      <th>Action</th>\n",
       "      <th>Finances</th>\n",
       "      <th>Shopping_centres</th>\n",
       "      <th>Entertainment_spending</th>\n",
       "      <th>Spending_on_looks</th>\n",
       "      <th>Spending_on_gadgets</th>\n",
       "      <th>Age</th>\n",
       "      <th>Gender</th>\n",
       "      <th>Education</th>\n",
       "      <th>Village-town</th>\n",
       "    </tr>\n",
       "  </thead>\n",
       "  <tbody>\n",
       "    <tr>\n",
       "      <th>0</th>\n",
       "      <td>5</td>\n",
       "      <td>3</td>\n",
       "      <td>5</td>\n",
       "      <td>5</td>\n",
       "      <td>1</td>\n",
       "      <td>1</td>\n",
       "      <td>1</td>\n",
       "      <td>5</td>\n",
       "      <td>4</td>\n",
       "      <td>4</td>\n",
       "      <td>...</td>\n",
       "      <td>2</td>\n",
       "      <td>3</td>\n",
       "      <td>4</td>\n",
       "      <td>3</td>\n",
       "      <td>3</td>\n",
       "      <td>1</td>\n",
       "      <td>20</td>\n",
       "      <td>female</td>\n",
       "      <td>college/bachelor degree</td>\n",
       "      <td>village</td>\n",
       "    </tr>\n",
       "    <tr>\n",
       "      <th>1</th>\n",
       "      <td>4</td>\n",
       "      <td>4</td>\n",
       "      <td>3</td>\n",
       "      <td>5</td>\n",
       "      <td>1</td>\n",
       "      <td>2</td>\n",
       "      <td>1</td>\n",
       "      <td>4</td>\n",
       "      <td>3</td>\n",
       "      <td>4</td>\n",
       "      <td>...</td>\n",
       "      <td>4</td>\n",
       "      <td>3</td>\n",
       "      <td>4</td>\n",
       "      <td>4</td>\n",
       "      <td>2</td>\n",
       "      <td>5</td>\n",
       "      <td>19</td>\n",
       "      <td>female</td>\n",
       "      <td>college/bachelor degree</td>\n",
       "      <td>city</td>\n",
       "    </tr>\n",
       "    <tr>\n",
       "      <th>2</th>\n",
       "      <td>5</td>\n",
       "      <td>5</td>\n",
       "      <td>3</td>\n",
       "      <td>5</td>\n",
       "      <td>1</td>\n",
       "      <td>5</td>\n",
       "      <td>1</td>\n",
       "      <td>4</td>\n",
       "      <td>2</td>\n",
       "      <td>4</td>\n",
       "      <td>...</td>\n",
       "      <td>1</td>\n",
       "      <td>2</td>\n",
       "      <td>4</td>\n",
       "      <td>4</td>\n",
       "      <td>3</td>\n",
       "      <td>4</td>\n",
       "      <td>20</td>\n",
       "      <td>female</td>\n",
       "      <td>secondary school</td>\n",
       "      <td>city</td>\n",
       "    </tr>\n",
       "    <tr>\n",
       "      <th>3</th>\n",
       "      <td>5</td>\n",
       "      <td>3</td>\n",
       "      <td>5</td>\n",
       "      <td>3</td>\n",
       "      <td>5</td>\n",
       "      <td>4</td>\n",
       "      <td>2</td>\n",
       "      <td>5</td>\n",
       "      <td>2</td>\n",
       "      <td>3</td>\n",
       "      <td>...</td>\n",
       "      <td>4</td>\n",
       "      <td>4</td>\n",
       "      <td>3</td>\n",
       "      <td>3</td>\n",
       "      <td>3</td>\n",
       "      <td>2</td>\n",
       "      <td>20</td>\n",
       "      <td>female</td>\n",
       "      <td>secondary school</td>\n",
       "      <td>village</td>\n",
       "    </tr>\n",
       "    <tr>\n",
       "      <th>4</th>\n",
       "      <td>5</td>\n",
       "      <td>3</td>\n",
       "      <td>2</td>\n",
       "      <td>5</td>\n",
       "      <td>4</td>\n",
       "      <td>3</td>\n",
       "      <td>1</td>\n",
       "      <td>5</td>\n",
       "      <td>2</td>\n",
       "      <td>3</td>\n",
       "      <td>...</td>\n",
       "      <td>4</td>\n",
       "      <td>2</td>\n",
       "      <td>3</td>\n",
       "      <td>3</td>\n",
       "      <td>1</td>\n",
       "      <td>4</td>\n",
       "      <td>20</td>\n",
       "      <td>male</td>\n",
       "      <td>secondary school</td>\n",
       "      <td>city</td>\n",
       "    </tr>\n",
       "  </tbody>\n",
       "</table>\n",
       "<p>5 rows × 21 columns</p>\n",
       "</div>"
      ],
      "text/plain": [
       "   Music  Slow_songs_or_fast_songs  Pop  Rock  Hiphop_Rap  Latino  \\\n",
       "0      5                         3    5     5           1       1   \n",
       "1      4                         4    3     5           1       2   \n",
       "2      5                         5    3     5           1       5   \n",
       "3      5                         3    5     3           5       4   \n",
       "4      5                         3    2     5           4       3   \n",
       "\n",
       "   Techno_Trance  Comedy  Romantic  Sci-fi  ...  Action  Finances  \\\n",
       "0              1       5         4       4  ...       2         3   \n",
       "1              1       4         3       4  ...       4         3   \n",
       "2              1       4         2       4  ...       1         2   \n",
       "3              2       5         2       3  ...       4         4   \n",
       "4              1       5         2       3  ...       4         2   \n",
       "\n",
       "   Shopping_centres  Entertainment_spending  Spending_on_looks  \\\n",
       "0                 4                       3                  3   \n",
       "1                 4                       4                  2   \n",
       "2                 4                       4                  3   \n",
       "3                 3                       3                  3   \n",
       "4                 3                       3                  1   \n",
       "\n",
       "   Spending_on_gadgets  Age  Gender                Education Village-town  \n",
       "0                    1   20  female  college/bachelor degree      village  \n",
       "1                    5   19  female  college/bachelor degree         city  \n",
       "2                    4   20  female         secondary school         city  \n",
       "3                    2   20  female         secondary school      village  \n",
       "4                    4   20    male         secondary school         city  \n",
       "\n",
       "[5 rows x 21 columns]"
      ]
     },
     "execution_count": 4,
     "metadata": {},
     "output_type": "execute_result"
    }
   ],
   "source": [
    "#Delete out extra columns not pertaining to research questions.\n",
    "research2.drop(research2.columns[21:], axis=1, inplace=True)\n",
    "research2.head()"
   ]
  },
  {
   "cell_type": "code",
   "execution_count": 5,
   "metadata": {},
   "outputs": [
    {
     "data": {
      "text/html": [
       "<div>\n",
       "<style scoped>\n",
       "    .dataframe tbody tr th:only-of-type {\n",
       "        vertical-align: middle;\n",
       "    }\n",
       "\n",
       "    .dataframe tbody tr th {\n",
       "        vertical-align: top;\n",
       "    }\n",
       "\n",
       "    .dataframe thead th {\n",
       "        text-align: right;\n",
       "    }\n",
       "</style>\n",
       "<table border=\"1\" class=\"dataframe\">\n",
       "  <thead>\n",
       "    <tr style=\"text-align: right;\">\n",
       "      <th></th>\n",
       "      <th>Music</th>\n",
       "      <th>Slow_songs_or_fast_songs</th>\n",
       "      <th>Pop</th>\n",
       "      <th>Rock</th>\n",
       "      <th>Hiphop_Rap</th>\n",
       "      <th>Latino</th>\n",
       "      <th>Techno_Trance</th>\n",
       "      <th>Comedy</th>\n",
       "      <th>Romantic</th>\n",
       "      <th>Sci-fi</th>\n",
       "      <th>...</th>\n",
       "      <th>Action</th>\n",
       "      <th>Finances</th>\n",
       "      <th>Shopping_centres</th>\n",
       "      <th>Entertainment_spending</th>\n",
       "      <th>Spending_on_looks</th>\n",
       "      <th>Spending_on_gadgets</th>\n",
       "      <th>Age</th>\n",
       "      <th>Gender</th>\n",
       "      <th>Education</th>\n",
       "      <th>Village-town</th>\n",
       "    </tr>\n",
       "  </thead>\n",
       "  <tbody>\n",
       "    <tr>\n",
       "      <th>0</th>\n",
       "      <td>5</td>\n",
       "      <td>3</td>\n",
       "      <td>like</td>\n",
       "      <td>like</td>\n",
       "      <td>dislike</td>\n",
       "      <td>dislike</td>\n",
       "      <td>dislike</td>\n",
       "      <td>5</td>\n",
       "      <td>4</td>\n",
       "      <td>4</td>\n",
       "      <td>...</td>\n",
       "      <td>2</td>\n",
       "      <td>3</td>\n",
       "      <td>4</td>\n",
       "      <td>3</td>\n",
       "      <td>3</td>\n",
       "      <td>1</td>\n",
       "      <td>20</td>\n",
       "      <td>female</td>\n",
       "      <td>college/bachelor degree</td>\n",
       "      <td>village</td>\n",
       "    </tr>\n",
       "    <tr>\n",
       "      <th>1</th>\n",
       "      <td>4</td>\n",
       "      <td>4</td>\n",
       "      <td>neutral</td>\n",
       "      <td>like</td>\n",
       "      <td>dislike</td>\n",
       "      <td>dislike</td>\n",
       "      <td>dislike</td>\n",
       "      <td>4</td>\n",
       "      <td>3</td>\n",
       "      <td>4</td>\n",
       "      <td>...</td>\n",
       "      <td>4</td>\n",
       "      <td>3</td>\n",
       "      <td>4</td>\n",
       "      <td>4</td>\n",
       "      <td>2</td>\n",
       "      <td>5</td>\n",
       "      <td>19</td>\n",
       "      <td>female</td>\n",
       "      <td>college/bachelor degree</td>\n",
       "      <td>city</td>\n",
       "    </tr>\n",
       "    <tr>\n",
       "      <th>2</th>\n",
       "      <td>5</td>\n",
       "      <td>5</td>\n",
       "      <td>neutral</td>\n",
       "      <td>like</td>\n",
       "      <td>dislike</td>\n",
       "      <td>like</td>\n",
       "      <td>dislike</td>\n",
       "      <td>4</td>\n",
       "      <td>2</td>\n",
       "      <td>4</td>\n",
       "      <td>...</td>\n",
       "      <td>1</td>\n",
       "      <td>2</td>\n",
       "      <td>4</td>\n",
       "      <td>4</td>\n",
       "      <td>3</td>\n",
       "      <td>4</td>\n",
       "      <td>20</td>\n",
       "      <td>female</td>\n",
       "      <td>secondary school</td>\n",
       "      <td>city</td>\n",
       "    </tr>\n",
       "    <tr>\n",
       "      <th>3</th>\n",
       "      <td>5</td>\n",
       "      <td>3</td>\n",
       "      <td>like</td>\n",
       "      <td>neutral</td>\n",
       "      <td>like</td>\n",
       "      <td>like</td>\n",
       "      <td>dislike</td>\n",
       "      <td>5</td>\n",
       "      <td>2</td>\n",
       "      <td>3</td>\n",
       "      <td>...</td>\n",
       "      <td>4</td>\n",
       "      <td>4</td>\n",
       "      <td>3</td>\n",
       "      <td>3</td>\n",
       "      <td>3</td>\n",
       "      <td>2</td>\n",
       "      <td>20</td>\n",
       "      <td>female</td>\n",
       "      <td>secondary school</td>\n",
       "      <td>village</td>\n",
       "    </tr>\n",
       "    <tr>\n",
       "      <th>4</th>\n",
       "      <td>5</td>\n",
       "      <td>3</td>\n",
       "      <td>dislike</td>\n",
       "      <td>like</td>\n",
       "      <td>like</td>\n",
       "      <td>neutral</td>\n",
       "      <td>dislike</td>\n",
       "      <td>5</td>\n",
       "      <td>2</td>\n",
       "      <td>3</td>\n",
       "      <td>...</td>\n",
       "      <td>4</td>\n",
       "      <td>2</td>\n",
       "      <td>3</td>\n",
       "      <td>3</td>\n",
       "      <td>1</td>\n",
       "      <td>4</td>\n",
       "      <td>20</td>\n",
       "      <td>male</td>\n",
       "      <td>secondary school</td>\n",
       "      <td>city</td>\n",
       "    </tr>\n",
       "    <tr>\n",
       "      <th>...</th>\n",
       "      <td>...</td>\n",
       "      <td>...</td>\n",
       "      <td>...</td>\n",
       "      <td>...</td>\n",
       "      <td>...</td>\n",
       "      <td>...</td>\n",
       "      <td>...</td>\n",
       "      <td>...</td>\n",
       "      <td>...</td>\n",
       "      <td>...</td>\n",
       "      <td>...</td>\n",
       "      <td>...</td>\n",
       "      <td>...</td>\n",
       "      <td>...</td>\n",
       "      <td>...</td>\n",
       "      <td>...</td>\n",
       "      <td>...</td>\n",
       "      <td>...</td>\n",
       "      <td>...</td>\n",
       "      <td>...</td>\n",
       "      <td>...</td>\n",
       "    </tr>\n",
       "    <tr>\n",
       "      <th>669</th>\n",
       "      <td>5</td>\n",
       "      <td>3</td>\n",
       "      <td>neutral</td>\n",
       "      <td>neutral</td>\n",
       "      <td>like</td>\n",
       "      <td>dislike</td>\n",
       "      <td>like</td>\n",
       "      <td>5</td>\n",
       "      <td>3</td>\n",
       "      <td>4</td>\n",
       "      <td>...</td>\n",
       "      <td>3</td>\n",
       "      <td>4</td>\n",
       "      <td>3</td>\n",
       "      <td>4</td>\n",
       "      <td>4</td>\n",
       "      <td>4</td>\n",
       "      <td>22</td>\n",
       "      <td>male</td>\n",
       "      <td>secondary school</td>\n",
       "      <td>city</td>\n",
       "    </tr>\n",
       "    <tr>\n",
       "      <th>670</th>\n",
       "      <td>5</td>\n",
       "      <td>2</td>\n",
       "      <td>like</td>\n",
       "      <td>like</td>\n",
       "      <td>like</td>\n",
       "      <td>neutral</td>\n",
       "      <td>neutral</td>\n",
       "      <td>4</td>\n",
       "      <td>5</td>\n",
       "      <td>4</td>\n",
       "      <td>...</td>\n",
       "      <td>4</td>\n",
       "      <td>3</td>\n",
       "      <td>5</td>\n",
       "      <td>3</td>\n",
       "      <td>4</td>\n",
       "      <td>3</td>\n",
       "      <td>20</td>\n",
       "      <td>female</td>\n",
       "      <td>secondary school</td>\n",
       "      <td>city</td>\n",
       "    </tr>\n",
       "    <tr>\n",
       "      <th>671</th>\n",
       "      <td>4</td>\n",
       "      <td>3</td>\n",
       "      <td>neutral</td>\n",
       "      <td>like</td>\n",
       "      <td>neutral</td>\n",
       "      <td>dislike</td>\n",
       "      <td>dislike</td>\n",
       "      <td>3</td>\n",
       "      <td>5</td>\n",
       "      <td>2</td>\n",
       "      <td>...</td>\n",
       "      <td>3</td>\n",
       "      <td>1</td>\n",
       "      <td>2</td>\n",
       "      <td>2</td>\n",
       "      <td>2</td>\n",
       "      <td>2</td>\n",
       "      <td>18</td>\n",
       "      <td>female</td>\n",
       "      <td>secondary school</td>\n",
       "      <td>city</td>\n",
       "    </tr>\n",
       "    <tr>\n",
       "      <th>672</th>\n",
       "      <td>5</td>\n",
       "      <td>3</td>\n",
       "      <td>neutral</td>\n",
       "      <td>like</td>\n",
       "      <td>dislike</td>\n",
       "      <td>dislike</td>\n",
       "      <td>dislike</td>\n",
       "      <td>5</td>\n",
       "      <td>3</td>\n",
       "      <td>1</td>\n",
       "      <td>...</td>\n",
       "      <td>4</td>\n",
       "      <td>3</td>\n",
       "      <td>2</td>\n",
       "      <td>5</td>\n",
       "      <td>3</td>\n",
       "      <td>3</td>\n",
       "      <td>25</td>\n",
       "      <td>female</td>\n",
       "      <td>college/bachelor degree</td>\n",
       "      <td>city</td>\n",
       "    </tr>\n",
       "    <tr>\n",
       "      <th>673</th>\n",
       "      <td>5</td>\n",
       "      <td>5</td>\n",
       "      <td>like</td>\n",
       "      <td>dislike</td>\n",
       "      <td>neutral</td>\n",
       "      <td>dislike</td>\n",
       "      <td>neutral</td>\n",
       "      <td>5</td>\n",
       "      <td>2</td>\n",
       "      <td>3</td>\n",
       "      <td>...</td>\n",
       "      <td>4</td>\n",
       "      <td>5</td>\n",
       "      <td>4</td>\n",
       "      <td>3</td>\n",
       "      <td>1</td>\n",
       "      <td>1</td>\n",
       "      <td>21</td>\n",
       "      <td>male</td>\n",
       "      <td>secondary school</td>\n",
       "      <td>village</td>\n",
       "    </tr>\n",
       "  </tbody>\n",
       "</table>\n",
       "<p>674 rows × 21 columns</p>\n",
       "</div>"
      ],
      "text/plain": [
       "     Music  Slow_songs_or_fast_songs      Pop     Rock Hiphop_Rap   Latino  \\\n",
       "0        5                         3     like     like    dislike  dislike   \n",
       "1        4                         4  neutral     like    dislike  dislike   \n",
       "2        5                         5  neutral     like    dislike     like   \n",
       "3        5                         3     like  neutral       like     like   \n",
       "4        5                         3  dislike     like       like  neutral   \n",
       "..     ...                       ...      ...      ...        ...      ...   \n",
       "669      5                         3  neutral  neutral       like  dislike   \n",
       "670      5                         2     like     like       like  neutral   \n",
       "671      4                         3  neutral     like    neutral  dislike   \n",
       "672      5                         3  neutral     like    dislike  dislike   \n",
       "673      5                         5     like  dislike    neutral  dislike   \n",
       "\n",
       "    Techno_Trance  Comedy  Romantic  Sci-fi  ...  Action  Finances  \\\n",
       "0         dislike       5         4       4  ...       2         3   \n",
       "1         dislike       4         3       4  ...       4         3   \n",
       "2         dislike       4         2       4  ...       1         2   \n",
       "3         dislike       5         2       3  ...       4         4   \n",
       "4         dislike       5         2       3  ...       4         2   \n",
       "..            ...     ...       ...     ...  ...     ...       ...   \n",
       "669          like       5         3       4  ...       3         4   \n",
       "670       neutral       4         5       4  ...       4         3   \n",
       "671       dislike       3         5       2  ...       3         1   \n",
       "672       dislike       5         3       1  ...       4         3   \n",
       "673       neutral       5         2       3  ...       4         5   \n",
       "\n",
       "     Shopping_centres  Entertainment_spending  Spending_on_looks  \\\n",
       "0                   4                       3                  3   \n",
       "1                   4                       4                  2   \n",
       "2                   4                       4                  3   \n",
       "3                   3                       3                  3   \n",
       "4                   3                       3                  1   \n",
       "..                ...                     ...                ...   \n",
       "669                 3                       4                  4   \n",
       "670                 5                       3                  4   \n",
       "671                 2                       2                  2   \n",
       "672                 2                       5                  3   \n",
       "673                 4                       3                  1   \n",
       "\n",
       "     Spending_on_gadgets  Age  Gender                Education Village-town  \n",
       "0                      1   20  female  college/bachelor degree      village  \n",
       "1                      5   19  female  college/bachelor degree         city  \n",
       "2                      4   20  female         secondary school         city  \n",
       "3                      2   20  female         secondary school      village  \n",
       "4                      4   20    male         secondary school         city  \n",
       "..                   ...  ...     ...                      ...          ...  \n",
       "669                    4   22    male         secondary school         city  \n",
       "670                    3   20  female         secondary school         city  \n",
       "671                    2   18  female         secondary school         city  \n",
       "672                    3   25  female  college/bachelor degree         city  \n",
       "673                    1   21    male         secondary school      village  \n",
       "\n",
       "[674 rows x 21 columns]"
      ]
     },
     "execution_count": 5,
     "metadata": {},
     "output_type": "execute_result"
    }
   ],
   "source": [
    "# Changing value names from int to object\n",
    "# 1 & 2: dislike\n",
    "# 3: netural\n",
    "# 4 & 5: like\n",
    "\n",
    "# Pop\n",
    "research2['Pop']=research2['Pop'].astype(str)\n",
    "# research2.dtypes --> make sure type was changed correctly\n",
    "Pop_dict={'1': 'dislike', '2':'dislike', '3':'neutral', '4':'like', '5':'like'}\n",
    "research2['Pop']=research2['Pop'].map(Pop_dict)\n",
    "\n",
    "\n",
    "# Rock\n",
    "research2['Rock']=research2['Rock'].astype(str)\n",
    "# research2.dtypes --> make sure type was changed correctly\n",
    "Rock_dict={'1': 'dislike', '2':'dislike', '3':'neutral', '4':'like', '5':'like'}\n",
    "research2['Rock']=research2['Rock'].map(Rock_dict)\n",
    "\n",
    "\n",
    "# Hiphop,Rap\n",
    "research2['Hiphop_Rap']=research2['Hiphop_Rap'].astype(str)\n",
    "# research2.dtypes --> make sure type was changed correctly\n",
    "Hiphop_dict={'1': 'dislike', '2':'dislike', '3':'neutral', '4':'like', '5':'like'}\n",
    "research2['Hiphop_Rap']=research2['Hiphop_Rap'].map(Hiphop_dict)\n",
    "\n",
    "\n",
    "# Latino\n",
    "research2['Latino']=research2['Latino'].astype(str)\n",
    "# research2.dtypes --> make sure type was changed correctly\n",
    "Latino_dict={'1': 'dislike', '2':'dislike', '3':'neutral', '4':'like', '5':'like'}\n",
    "research2['Latino']=research2['Latino'].map(Latino_dict)\n",
    "\n",
    "\n",
    "# Techno,Trance\n",
    "research2['Techno_Trance']=research2['Techno_Trance'].astype(str)\n",
    "# research2.dtypes --> make sure type was changed correctly\n",
    "Techno_dict={'1': 'dislike', '2':'dislike', '3':'neutral', '4':'like', '5':'like'}\n",
    "research2['Techno_Trance']=research2['Techno_Trance'].map(Techno_dict)\n",
    "research2"
   ]
  },
  {
   "cell_type": "markdown",
   "metadata": {},
   "source": [
    "### **Research Question 1**\n",
    "How does our data on music preference compare to Billboards?\n",
    "\n",
    "\n",
    "\n",
    "\n",
    "\n",
    "\n",
    "\n",
    "\n",
    "\n",
    "<img src = './img1.png' />\n"
   ]
  },
  {
   "cell_type": "code",
   "execution_count": 6,
   "metadata": {},
   "outputs": [
    {
     "name": "stdout",
     "output_type": "stream",
     "text": [
      "Pop popularity:  344\n",
      "Rock popularity:  431\n",
      "Techno/Trance popularity:  141\n",
      "Hiphop/Rap popularity:  249\n",
      "Latino popularity:  211\n"
     ]
    },
    {
     "data": {
      "image/png": "[encoded data removed]",
      "text/plain": [
       "<Figure size 432x288 with 1 Axes>"
      ]
     },
     "metadata": {},
     "output_type": "display_data"
    }
   ],
   "source": [
    "# Popularity of Music Generes \n",
    "#Pie Chart: https://matplotlib.org/3.1.1/gallery/pie_and_polar_charts/pie_features.html#sphx-glr-gallery-pie-and-polar-charts-pie-features-py\n",
    "#Rock and Pop are the most popular\n",
    "\n",
    "labels = 'Pop', 'Rock', 'Techno/Trance', 'Hiphop/Rap','Latino'\n",
    "\n",
    "#count the number of likes for each genre\n",
    "print(\"Pop popularity: \",(research2.Pop=='like').sum())\n",
    "print(\"Rock popularity: \",(research2.Rock=='like').sum())\n",
    "print(\"Techno/Trance popularity: \",(research2.Techno_Trance=='like').sum())\n",
    "print(\"Hiphop/Rap popularity: \",(research2.Hiphop_Rap=='like').sum())\n",
    "print(\"Latino popularity: \",(research2.Latino=='like').sum())\n",
    "\n",
    "#use numbers obtained to create the pie chart\n",
    "sizes = [334, 431,141,249,211]\n",
    "colors = ['coral', 'dodgerblue','lime','yellow','red']\n",
    "\n",
    "#Plot pie chart\n",
    "plt.pie(sizes, labels=labels, colors=colors, autopct='%1.1f%%', shadow=True, startangle=140)\n",
    "\n",
    "plt.show()"
   ]
  },
  {
   "cell_type": "markdown",
   "metadata": {},
   "source": [
    "### **Research Question 2**\n",
    "Does a person's preference for Pop, Rock, HipHop/Rap, Latin and Techno music differ based on their gender?"
   ]
  },
  {
   "cell_type": "code",
   "execution_count": 19,
   "metadata": {},
   "outputs": [
    {
     "data": {
      "text/plain": [
       "<matplotlib.axes._subplots.AxesSubplot at 0x7f362616fb00>"
      ]
     },
     "execution_count": 19,
     "metadata": {},
     "output_type": "execute_result"
    },
    {
     "data": {
      "image/png": "[encoded data removed]",
      "text/plain": [
       "<Figure size 432x288 with 1 Axes>"
      ]
     },
     "metadata": {
      "needs_background": "light"
     },
     "output_type": "display_data"
    },
    {
     "data": {
      "image/png": "[encoded data removed]",
      "text/plain": [
       "<Figure size 432x288 with 1 Axes>"
      ]
     },
     "metadata": {
      "needs_background": "light"
     },
     "output_type": "display_data"
    }
   ],
   "source": [
    "#Gender and music preferences\n",
    "#Gender and Pop\n",
    "gender_v_pop =research2.groupby(['Pop', 'Gender'])['Pop'].count().unstack('Gender').plot(kind='bar', color=[\"pink\",\"blue\"])\n",
    "\n",
    "# adding labels\n",
    "plt.title('Popularity of Pop music by Gender')\n",
    "plt.ylabel('Number of people')\n",
    "plt.xlabel('Preferences')\n",
    "plt.xticks(rotation='horizontal')\n",
    "\n",
    "gender_v_pop\n",
    "\n",
    "#rearrange preferences--like, neutral, dislike\n",
    "\n",
    "gender_v_pop_df =research2.groupby(['Pop', 'Gender'])['Pop'].count().unstack('Gender')\n",
    "gender_v_pop_df = gender_v_pop_df.loc[['like', 'neutral', 'dislike'],:]\n",
    "gender_v_pop_df.plot(kind='bar', color=[\"pink\",\"blue\"])"
   ]
  },
  {
   "cell_type": "code",
   "execution_count": 20,
   "metadata": {},
   "outputs": [
    {
     "data": {
      "text/plain": [
       "<matplotlib.axes._subplots.AxesSubplot at 0x7f3625b03128>"
      ]
     },
     "execution_count": 20,
     "metadata": {},
     "output_type": "execute_result"
    },
    {
     "data": {
      "image/png": "[encoded data removed]",
      "text/plain": [
       "<Figure size 432x288 with 1 Axes>"
      ]
     },
     "metadata": {
      "needs_background": "light"
     },
     "output_type": "display_data"
    },
    {
     "data": {
      "image/png": "[encoded data removed]",
      "text/plain": [
       "<Figure size 432x288 with 1 Axes>"
      ]
     },
     "metadata": {
      "needs_background": "light"
     },
     "output_type": "display_data"
    }
   ],
   "source": [
    "#Gender and music preferences\n",
    "#Gender and Rock\n",
    "gender_v_rock =research2.groupby(['Rock', 'Gender'])['Rock'].count().unstack('Gender').plot(kind='bar', color=[\"pink\",\"blue\"])\n",
    "\n",
    "# adding labels\n",
    "plt.title('Popularity of Rock music by Gender')\n",
    "plt.ylabel('Number of people')\n",
    "plt.xlabel('Preferences')\n",
    "plt.xticks(rotation='horizontal')\n",
    "\n",
    "#rearrange preferences--like, neutral, dislike\n",
    "\n",
    "gender_v_rock_df =research2.groupby(['Rock', 'Gender'])['Rock'].count().unstack('Gender')\n",
    "gender_v_rock_df = gender_v_rock_df.loc[['like', 'neutral', 'dislike'],:]\n",
    "gender_v_rock_df.plot(kind='bar', color=[\"pink\",\"blue\"])\n",
    "\n",
    "gender_v_rock"
   ]
  },
  {
   "cell_type": "code",
   "execution_count": 22,
   "metadata": {},
   "outputs": [
    {
     "data": {
      "text/plain": [
       "<matplotlib.axes._subplots.AxesSubplot at 0x7f36257192b0>"
      ]
     },
     "execution_count": 22,
     "metadata": {},
     "output_type": "execute_result"
    },
    {
     "data": {
      "image/png": "[encoded data removed]",
      "text/plain": [
       "<Figure size 432x288 with 1 Axes>"
      ]
     },
     "metadata": {
      "needs_background": "light"
     },
     "output_type": "display_data"
    },
    {
     "data": {
      "image/png": "[encoded data removed]",
      "text/plain": [
       "<Figure size 432x288 with 1 Axes>"
      ]
     },
     "metadata": {
      "needs_background": "light"
     },
     "output_type": "display_data"
    }
   ],
   "source": [
    "#Gender and music preferences\n",
    "#Gender and Hip Hop/Rap\n",
    "gender_v_Hiphop =research2.groupby(['Hiphop_Rap', 'Gender'])['Hiphop_Rap'].count().unstack('Gender').plot(kind='bar', color=[\"pink\",\"blue\"])\n",
    "\n",
    "# adding labels\n",
    "plt.title('Popularity of Hiphop/Rap music by Gender')\n",
    "plt.ylabel('Number of people')\n",
    "plt.xlabel('Preferences')\n",
    "plt.xticks(rotation='horizontal')\n",
    "\n",
    "#rearrange preferences--like, neutral, dislike\n",
    "\n",
    "gender_v_Hiphop_df =research2.groupby(['Hiphop_Rap', 'Gender'])['Hiphop_Rap'].count().unstack('Gender')\n",
    "gender_v_Hiphop_df = gender_v_Hiphop_df.loc[['like', 'neutral', 'dislike'],:]\n",
    "gender_v_Hiphop_df.plot(kind='bar', color=[\"pink\",\"blue\"])\n",
    "\n",
    "gender_v_Hiphop"
   ]
  },
  {
   "cell_type": "code",
   "execution_count": 23,
   "metadata": {},
   "outputs": [
    {
     "data": {
      "text/plain": [
       "<matplotlib.axes._subplots.AxesSubplot at 0x7f362568e518>"
      ]
     },
     "execution_count": 23,
     "metadata": {},
     "output_type": "execute_result"
    },
    {
     "data": {
      "image/png": "[encoded data removed]",
      "text/plain": [
       "<Figure size 432x288 with 1 Axes>"
      ]
     },
     "metadata": {
      "needs_background": "light"
     },
     "output_type": "display_data"
    },
    {
     "data": {
      "image/png": "[encoded data removed]",
      "text/plain": [
       "<Figure size 432x288 with 1 Axes>"
      ]
     },
     "metadata": {
      "needs_background": "light"
     },
     "output_type": "display_data"
    }
   ],
   "source": [
    "#Gender and music preferences\n",
    "#Gender and Latin\n",
    "gender_v_latino =research2.groupby(['Latino', 'Gender'])['Latino'].count().unstack('Gender').plot(kind='bar', color=[\"pink\",\"blue\"])\n",
    "\n",
    "# adding labels\n",
    "plt.title('Popularity of Latino music by Gender')\n",
    "plt.ylabel('Number of people')\n",
    "plt.xlabel('Preferences')\n",
    "plt.xticks(rotation='horizontal')\n",
    "\n",
    "#rearrange preferences--like, neutral, dislike\n",
    "\n",
    "gender_v_latino_df =research2.groupby(['Latino', 'Gender'])['Latino'].count().unstack('Gender')\n",
    "gender_v_latino_df = gender_v_Hiphop_df.loc[['like', 'neutral', 'dislike'],:]\n",
    "gender_v_latino_df.plot(kind='bar', color=[\"pink\",\"blue\"])\n",
    "\n",
    "gender_v_latino"
   ]
  },
  {
   "cell_type": "code",
   "execution_count": 24,
   "metadata": {},
   "outputs": [
    {
     "data": {
      "text/plain": [
       "<matplotlib.axes._subplots.AxesSubplot at 0x7f36255dc6d8>"
      ]
     },
     "execution_count": 24,
     "metadata": {},
     "output_type": "execute_result"
    },
    {
     "data": {
      "image/png": "[encoded data removed]",
      "text/plain": [
       "<Figure size 432x288 with 1 Axes>"
      ]
     },
     "metadata": {
      "needs_background": "light"
     },
     "output_type": "display_data"
    },
    {
     "data": {
      "image/png": "[encoded data removed]",
      "text/plain": [
       "<Figure size 432x288 with 1 Axes>"
      ]
     },
     "metadata": {
      "needs_background": "light"
     },
     "output_type": "display_data"
    }
   ],
   "source": [
    "#Gender and music preferences\n",
    "#Gender and Techno/Trance(EDM)\n",
    "gender_v_techno =research2.groupby(['Techno_Trance', 'Gender'])['Techno_Trance'].count().unstack('Gender').plot(kind='bar', color=[\"pink\",\"blue\"])\n",
    "\n",
    "# adding labels\n",
    "plt.title('Popularity of Techno/Trance music by Gender')\n",
    "plt.ylabel('Number of people')\n",
    "plt.xlabel('Preferences')\n",
    "plt.xticks(rotation='horizontal')\n",
    "\n",
    "#rearrange preferences--like, neutral, dislike\n",
    "\n",
    "gender_v_techno_df =research2.groupby(['Techno_Trance', 'Gender'])['Techno_Trance'].count().unstack('Gender')\n",
    "gender_v_techno_df = gender_v_Hiphop_df.loc[['like', 'neutral', 'dislike'],:]\n",
    "gender_v_techno_df.plot(kind='bar', color=[\"pink\",\"blue\"])\n",
    "\n",
    "\n",
    "gender_v_techno"
   ]
  },
  {
   "cell_type": "markdown",
   "metadata": {},
   "source": [
    "### **Research Question 3**\n",
    "Does a person's preference for Pop, Rock, HipHop/Rap, Latin and Techno music differ based on their age?"
   ]
  },
  {
   "cell_type": "code",
   "execution_count": 13,
   "metadata": {},
   "outputs": [
    {
     "data": {
      "text/plain": [
       "0    (19, 25]\n",
       "1    (15, 19]\n",
       "2    (19, 25]\n",
       "3    (19, 25]\n",
       "4    (19, 25]\n",
       "Name: Age, dtype: category\n",
       "Categories (3, interval[int64]): [(15, 19] < (19, 25] < (25, 30]]"
      ]
     },
     "execution_count": 13,
     "metadata": {},
     "output_type": "execute_result"
    }
   ],
   "source": [
    "# Age and music preferences\n",
    "#Age and Pop\n",
    "# making sure our intervals are right \n",
    "buckets = [15,19,25,30]\n",
    "age_cut= pd.cut(research2['Age'], buckets)\n",
    "age_cut.head()"
   ]
  },
  {
   "cell_type": "code",
   "execution_count": 25,
   "metadata": {},
   "outputs": [
    {
     "data": {
      "text/plain": [
       "<matplotlib.axes._subplots.AxesSubplot at 0x7f3625853dd8>"
      ]
     },
     "execution_count": 25,
     "metadata": {},
     "output_type": "execute_result"
    },
    {
     "data": {
      "image/png": "[encoded data removed]",
      "text/plain": [
       "<Figure size 432x288 with 1 Axes>"
      ]
     },
     "metadata": {
      "needs_background": "light"
     },
     "output_type": "display_data"
    }
   ],
   "source": [
    "research2['age_group']= pd.cut(research2['Age'], bins=[15,19,25,30])\n",
    "# call the coloumn to make sure intervals are correct\n",
    "# research2['age_group']\n",
    "\n",
    "pop_likes_df = research2[research2['Pop'] == 'like']\n",
    "# calling the Pop colomn values that only equal like, and running it to make sure it prints correctly\n",
    "# pop_likes_df\n",
    "\n",
    "age_v_pop =pop_likes_df['age_group'].value_counts().sort_index().plot(kind='bar', color='coral')\n",
    "\n",
    "# labels\n",
    "plt.title('Popularity of Pop music by Age')\n",
    "plt.ylabel('Frequency')\n",
    "plt.xlabel('Age groups')\n",
    "plt.xticks(rotation='horizontal')\n",
    "\n",
    "age_v_pop"
   ]
  },
  {
   "cell_type": "code",
   "execution_count": 26,
   "metadata": {},
   "outputs": [
    {
     "data": {
      "text/plain": [
       "<matplotlib.axes._subplots.AxesSubplot at 0x7f3625980fd0>"
      ]
     },
     "execution_count": 26,
     "metadata": {},
     "output_type": "execute_result"
    },
    {
     "data": {
      "image/png": "[encoded data removed]",
      "text/plain": [
       "<Figure size 432x288 with 1 Axes>"
      ]
     },
     "metadata": {
      "needs_background": "light"
     },
     "output_type": "display_data"
    }
   ],
   "source": [
    "rock_likes_df = research2[research2['Rock'] == 'like']\n",
    "# calling the Pop colomn values that only equal like, and running it to make sure it prints correctly\n",
    "# rock_likes_df\n",
    "\n",
    "age_v_rock =rock_likes_df['age_group'].value_counts().sort_index().plot(kind='bar', color='dodgerblue')\n",
    "\n",
    "# labels\n",
    "plt.title('Popularity of Rock music by Age')\n",
    "plt.ylabel('Frequency')\n",
    "plt.xlabel('Age groups')\n",
    "plt.xticks(rotation='horizontal')\n",
    "age_v_rock\n"
   ]
  },
  {
   "cell_type": "code",
   "execution_count": 27,
   "metadata": {},
   "outputs": [
    {
     "data": {
      "text/plain": [
       "<matplotlib.axes._subplots.AxesSubplot at 0x7f3626410668>"
      ]
     },
     "execution_count": 27,
     "metadata": {},
     "output_type": "execute_result"
    },
    {
     "data": {
      "image/png": "[encoded data removed]",
      "text/plain": [
       "<Figure size 432x288 with 1 Axes>"
      ]
     },
     "metadata": {
      "needs_background": "light"
     },
     "output_type": "display_data"
    }
   ],
   "source": [
    "Techno_likes_df = research2[research2['Techno_Trance'] == 'like']\n",
    "# calling the Pop colomn values that only equal like, and running it to make sure it prints correctly\n",
    "# rock_likes_df\n",
    "\n",
    "age_v_Techno=Techno_likes_df['age_group'].value_counts().sort_index().plot(kind='bar', color='lime')\n",
    "\n",
    "# labels\n",
    "plt.title('Popularity of Techno/Trance music by Age')\n",
    "plt.ylabel('Frequency')\n",
    "plt.xlabel('Age groups')\n",
    "plt.xticks(rotation='horizontal')\n",
    "\n",
    "\n",
    "age_v_Techno"
   ]
  },
  {
   "cell_type": "code",
   "execution_count": 28,
   "metadata": {},
   "outputs": [
    {
     "data": {
      "text/plain": [
       "<matplotlib.axes._subplots.AxesSubplot at 0x7f3625c9f240>"
      ]
     },
     "execution_count": 28,
     "metadata": {},
     "output_type": "execute_result"
    },
    {
     "data": {
      "image/png": "[encoded data removed]",
      "text/plain": [
       "<Figure size 432x288 with 1 Axes>"
      ]
     },
     "metadata": {
      "needs_background": "light"
     },
     "output_type": "display_data"
    }
   ],
   "source": [
    "Latino_likes_df = research2[research2['Latino'] == 'like']\n",
    "# calling the Pop colomn values that only equal like, and running it to make sure it prints correctly\n",
    "# rock_likes_df\n",
    "\n",
    "age_v_Latino=Latino_likes_df['age_group'].value_counts().sort_index().plot(kind='bar', color='red')\n",
    "\n",
    "# labels\n",
    "plt.title('Popularity of Latino music by Age')\n",
    "plt.ylabel('Frequency')\n",
    "plt.xlabel('Age groups')\n",
    "plt.xticks(rotation='horizontal')\n",
    "\n",
    "\n",
    "age_v_Latino"
   ]
  },
  {
   "cell_type": "code",
   "execution_count": 29,
   "metadata": {},
   "outputs": [
    {
     "data": {
      "text/plain": [
       "<matplotlib.axes._subplots.AxesSubplot at 0x7f3625fdc0f0>"
      ]
     },
     "execution_count": 29,
     "metadata": {},
     "output_type": "execute_result"
    },
    {
     "data": {
      "image/png": "[encoded data removed]",
      "text/plain": [
       "<Figure size 432x288 with 1 Axes>"
      ]
     },
     "metadata": {
      "needs_background": "light"
     },
     "output_type": "display_data"
    }
   ],
   "source": [
    "Hiphop_likes_df = research2[research2['Hiphop_Rap'] == 'like']\n",
    "# calling the Pop coloumn values that only equal like, and running it to make sure it prints correctly\n",
    "# rock_likes_df\n",
    "\n",
    "age_v_Hiphop=Hiphop_likes_df['age_group'].value_counts().sort_index().plot(kind='bar', color='yellow')\n",
    "\n",
    "# labels\n",
    "plt.title('Popularity of Hiphop/Rap music by Age')\n",
    "plt.ylabel('Frequency')\n",
    "plt.xlabel('Age groups')\n",
    "plt.xticks(rotation='horizontal')\n",
    "\n",
    "\n",
    "age_v_Hiphop"
   ]
  },
  {
   "cell_type": "markdown",
   "metadata": {},
   "source": [
    "### **Research Question 4**\n",
    "Can a person's preference for Pop, Rock, HipHop/Rap, Latin and Techno music determine their preference for Action, Animated, SciFi, Romantic, Comedy movies?"
   ]
  },
  {
   "cell_type": "code",
   "execution_count": 29,
   "metadata": {},
   "outputs": [
    {
     "data": {
      "text/html": [
       "<div>\n",
       "<style scoped>\n",
       "    .dataframe tbody tr th:only-of-type {\n",
       "        vertical-align: middle;\n",
       "    }\n",
       "\n",
       "    .dataframe tbody tr th {\n",
       "        vertical-align: top;\n",
       "    }\n",
       "\n",
       "    .dataframe thead th {\n",
       "        text-align: right;\n",
       "    }\n",
       "</style>\n",
       "<table border=\"1\" class=\"dataframe\">\n",
       "  <thead>\n",
       "    <tr style=\"text-align: right;\">\n",
       "      <th></th>\n",
       "      <th>Pop</th>\n",
       "      <th>Rock</th>\n",
       "      <th>Hiphop_Rap</th>\n",
       "      <th>Latino</th>\n",
       "      <th>Techno_Trance</th>\n",
       "      <th>Comedy</th>\n",
       "      <th>Romantic</th>\n",
       "      <th>Sci-fi</th>\n",
       "      <th>Animated</th>\n",
       "      <th>Action</th>\n",
       "    </tr>\n",
       "  </thead>\n",
       "  <tbody>\n",
       "    <tr>\n",
       "      <th>0</th>\n",
       "      <td>5</td>\n",
       "      <td>5</td>\n",
       "      <td>1</td>\n",
       "      <td>1</td>\n",
       "      <td>1</td>\n",
       "      <td>5</td>\n",
       "      <td>4</td>\n",
       "      <td>4</td>\n",
       "      <td>5</td>\n",
       "      <td>2</td>\n",
       "    </tr>\n",
       "    <tr>\n",
       "      <th>1</th>\n",
       "      <td>3</td>\n",
       "      <td>5</td>\n",
       "      <td>1</td>\n",
       "      <td>2</td>\n",
       "      <td>1</td>\n",
       "      <td>4</td>\n",
       "      <td>3</td>\n",
       "      <td>4</td>\n",
       "      <td>5</td>\n",
       "      <td>4</td>\n",
       "    </tr>\n",
       "    <tr>\n",
       "      <th>2</th>\n",
       "      <td>3</td>\n",
       "      <td>5</td>\n",
       "      <td>1</td>\n",
       "      <td>5</td>\n",
       "      <td>1</td>\n",
       "      <td>4</td>\n",
       "      <td>2</td>\n",
       "      <td>4</td>\n",
       "      <td>5</td>\n",
       "      <td>1</td>\n",
       "    </tr>\n",
       "    <tr>\n",
       "      <th>3</th>\n",
       "      <td>5</td>\n",
       "      <td>3</td>\n",
       "      <td>5</td>\n",
       "      <td>4</td>\n",
       "      <td>2</td>\n",
       "      <td>5</td>\n",
       "      <td>2</td>\n",
       "      <td>3</td>\n",
       "      <td>4</td>\n",
       "      <td>4</td>\n",
       "    </tr>\n",
       "    <tr>\n",
       "      <th>4</th>\n",
       "      <td>2</td>\n",
       "      <td>5</td>\n",
       "      <td>4</td>\n",
       "      <td>3</td>\n",
       "      <td>1</td>\n",
       "      <td>5</td>\n",
       "      <td>2</td>\n",
       "      <td>3</td>\n",
       "      <td>3</td>\n",
       "      <td>4</td>\n",
       "    </tr>\n",
       "  </tbody>\n",
       "</table>\n",
       "</div>"
      ],
      "text/plain": [
       "   Pop  Rock  Hiphop_Rap  Latino  Techno_Trance  Comedy  Romantic  Sci-fi  \\\n",
       "0    5     5           1       1              1       5         4       4   \n",
       "1    3     5           1       2              1       4         3       4   \n",
       "2    3     5           1       5              1       4         2       4   \n",
       "3    5     3           5       4              2       5         2       3   \n",
       "4    2     5           4       3              1       5         2       3   \n",
       "\n",
       "   Animated  Action  \n",
       "0         5       2  \n",
       "1         5       4  \n",
       "2         5       1  \n",
       "3         4       4  \n",
       "4         3       4  "
      ]
     },
     "execution_count": 29,
     "metadata": {},
     "output_type": "execute_result"
    }
   ],
   "source": [
    "# creating a new dataframe with selected columns\n",
    "research3 = research.iloc[:,2:12]\n",
    "research3.head()\n"
   ]
  },
  {
   "cell_type": "code",
   "execution_count": 30,
   "metadata": {},
   "outputs": [
    {
     "name": "stdout",
     "output_type": "stream",
     "text": [
      "                    Pop      Rock  Hiphop_Rap    Latino  Techno_Trance  \\\n",
      "Pop            1.000000 -0.043662    0.293387  0.281049       0.174364   \n",
      "Rock          -0.043662  1.000000   -0.209140 -0.047623      -0.096778   \n",
      "Hiphop_Rap     0.293387 -0.209140    1.000000  0.138688       0.290704   \n",
      "Latino         0.281049 -0.047623    0.138688  1.000000       0.108900   \n",
      "Techno_Trance  0.174364 -0.096778    0.290704  0.108900       1.000000   \n",
      "Comedy         0.221265 -0.021389    0.193457  0.091957       0.101894   \n",
      "Romantic       0.311570 -0.018553    0.098636  0.314346       0.011797   \n",
      "Sci-fi        -0.017939  0.125662    0.000602 -0.103876       0.173416   \n",
      "Animated       0.106134  0.182837   -0.024536  0.169417       0.049604   \n",
      "Action         0.064727  0.012234    0.162168 -0.078536       0.143894   \n",
      "\n",
      "                 Comedy  Romantic    Sci-fi  Animated    Action  \n",
      "Pop            0.221265  0.311570 -0.017939  0.106134  0.064727  \n",
      "Rock          -0.021389 -0.018553  0.125662  0.182837  0.012234  \n",
      "Hiphop_Rap     0.193457  0.098636  0.000602 -0.024536  0.162168  \n",
      "Latino         0.091957  0.314346 -0.103876  0.169417 -0.078536  \n",
      "Techno_Trance  0.101894  0.011797  0.173416  0.049604  0.143894  \n",
      "Comedy         1.000000  0.286113  0.075298  0.207540  0.120941  \n",
      "Romantic       0.286113  1.000000 -0.103555  0.264568 -0.191139  \n",
      "Sci-fi         0.075298 -0.103555  1.000000  0.079419  0.361184  \n",
      "Animated       0.207540  0.264568  0.079419  1.000000 -0.032277  \n",
      "Action         0.120941 -0.191139  0.361184 -0.032277  1.000000  \n"
     ]
    },
    {
     "data": {
      "image/png": "[encoded data removed]",
      "text/plain": [
       "<Figure size 432x288 with 2 Axes>"
      ]
     },
     "metadata": {
      "needs_background": "light"
     },
     "output_type": "display_data"
    }
   ],
   "source": [
    "corr = research3.corr()\n",
    "sns.heatmap(corr, \n",
    "            xticklabels=corr.columns.values,\n",
    "            yticklabels=corr.columns.values)\n",
    "print(corr)"
   ]
  },
  {
   "cell_type": "markdown",
   "metadata": {},
   "source": [
    "### **Research Question 5**\n",
    "Can a person's spending habits influence their preference for Pop, Rock, HipHop/Rap, Latin and Techno music?"
   ]
  },
  {
   "cell_type": "code",
   "execution_count": 33,
   "metadata": {},
   "outputs": [
    {
     "data": {
      "text/html": [
       "<div>\n",
       "<style scoped>\n",
       "    .dataframe tbody tr th:only-of-type {\n",
       "        vertical-align: middle;\n",
       "    }\n",
       "\n",
       "    .dataframe tbody tr th {\n",
       "        vertical-align: top;\n",
       "    }\n",
       "\n",
       "    .dataframe thead th {\n",
       "        text-align: right;\n",
       "    }\n",
       "</style>\n",
       "<table border=\"1\" class=\"dataframe\">\n",
       "  <thead>\n",
       "    <tr style=\"text-align: right;\">\n",
       "      <th></th>\n",
       "      <th>Pop</th>\n",
       "      <th>Rock</th>\n",
       "      <th>Hiphop_Rap</th>\n",
       "      <th>Latino</th>\n",
       "      <th>Techno_Trance</th>\n",
       "      <th>Finances</th>\n",
       "      <th>Shopping_centres</th>\n",
       "      <th>Entertainment_spending</th>\n",
       "      <th>Spending_on_looks</th>\n",
       "      <th>Spending_on_gadgets</th>\n",
       "    </tr>\n",
       "  </thead>\n",
       "  <tbody>\n",
       "    <tr>\n",
       "      <th>0</th>\n",
       "      <td>5</td>\n",
       "      <td>5</td>\n",
       "      <td>1</td>\n",
       "      <td>1</td>\n",
       "      <td>1</td>\n",
       "      <td>3</td>\n",
       "      <td>4</td>\n",
       "      <td>3</td>\n",
       "      <td>3</td>\n",
       "      <td>1</td>\n",
       "    </tr>\n",
       "    <tr>\n",
       "      <th>1</th>\n",
       "      <td>3</td>\n",
       "      <td>5</td>\n",
       "      <td>1</td>\n",
       "      <td>2</td>\n",
       "      <td>1</td>\n",
       "      <td>3</td>\n",
       "      <td>4</td>\n",
       "      <td>4</td>\n",
       "      <td>2</td>\n",
       "      <td>5</td>\n",
       "    </tr>\n",
       "    <tr>\n",
       "      <th>2</th>\n",
       "      <td>3</td>\n",
       "      <td>5</td>\n",
       "      <td>1</td>\n",
       "      <td>5</td>\n",
       "      <td>1</td>\n",
       "      <td>2</td>\n",
       "      <td>4</td>\n",
       "      <td>4</td>\n",
       "      <td>3</td>\n",
       "      <td>4</td>\n",
       "    </tr>\n",
       "    <tr>\n",
       "      <th>3</th>\n",
       "      <td>5</td>\n",
       "      <td>3</td>\n",
       "      <td>5</td>\n",
       "      <td>4</td>\n",
       "      <td>2</td>\n",
       "      <td>4</td>\n",
       "      <td>3</td>\n",
       "      <td>3</td>\n",
       "      <td>3</td>\n",
       "      <td>2</td>\n",
       "    </tr>\n",
       "    <tr>\n",
       "      <th>4</th>\n",
       "      <td>2</td>\n",
       "      <td>5</td>\n",
       "      <td>4</td>\n",
       "      <td>3</td>\n",
       "      <td>1</td>\n",
       "      <td>2</td>\n",
       "      <td>3</td>\n",
       "      <td>3</td>\n",
       "      <td>1</td>\n",
       "      <td>4</td>\n",
       "    </tr>\n",
       "    <tr>\n",
       "      <th>...</th>\n",
       "      <td>...</td>\n",
       "      <td>...</td>\n",
       "      <td>...</td>\n",
       "      <td>...</td>\n",
       "      <td>...</td>\n",
       "      <td>...</td>\n",
       "      <td>...</td>\n",
       "      <td>...</td>\n",
       "      <td>...</td>\n",
       "      <td>...</td>\n",
       "    </tr>\n",
       "    <tr>\n",
       "      <th>669</th>\n",
       "      <td>3</td>\n",
       "      <td>3</td>\n",
       "      <td>5</td>\n",
       "      <td>2</td>\n",
       "      <td>5</td>\n",
       "      <td>4</td>\n",
       "      <td>3</td>\n",
       "      <td>4</td>\n",
       "      <td>4</td>\n",
       "      <td>4</td>\n",
       "    </tr>\n",
       "    <tr>\n",
       "      <th>670</th>\n",
       "      <td>4</td>\n",
       "      <td>4</td>\n",
       "      <td>4</td>\n",
       "      <td>3</td>\n",
       "      <td>3</td>\n",
       "      <td>3</td>\n",
       "      <td>5</td>\n",
       "      <td>3</td>\n",
       "      <td>4</td>\n",
       "      <td>3</td>\n",
       "    </tr>\n",
       "    <tr>\n",
       "      <th>671</th>\n",
       "      <td>3</td>\n",
       "      <td>4</td>\n",
       "      <td>3</td>\n",
       "      <td>1</td>\n",
       "      <td>1</td>\n",
       "      <td>1</td>\n",
       "      <td>2</td>\n",
       "      <td>2</td>\n",
       "      <td>2</td>\n",
       "      <td>2</td>\n",
       "    </tr>\n",
       "    <tr>\n",
       "      <th>672</th>\n",
       "      <td>3</td>\n",
       "      <td>4</td>\n",
       "      <td>2</td>\n",
       "      <td>2</td>\n",
       "      <td>2</td>\n",
       "      <td>3</td>\n",
       "      <td>2</td>\n",
       "      <td>5</td>\n",
       "      <td>3</td>\n",
       "      <td>3</td>\n",
       "    </tr>\n",
       "    <tr>\n",
       "      <th>673</th>\n",
       "      <td>4</td>\n",
       "      <td>1</td>\n",
       "      <td>3</td>\n",
       "      <td>2</td>\n",
       "      <td>3</td>\n",
       "      <td>5</td>\n",
       "      <td>4</td>\n",
       "      <td>3</td>\n",
       "      <td>1</td>\n",
       "      <td>1</td>\n",
       "    </tr>\n",
       "  </tbody>\n",
       "</table>\n",
       "<p>674 rows × 10 columns</p>\n",
       "</div>"
      ],
      "text/plain": [
       "     Pop  Rock  Hiphop_Rap  Latino  Techno_Trance  Finances  Shopping_centres  \\\n",
       "0      5     5           1       1              1         3                 4   \n",
       "1      3     5           1       2              1         3                 4   \n",
       "2      3     5           1       5              1         2                 4   \n",
       "3      5     3           5       4              2         4                 3   \n",
       "4      2     5           4       3              1         2                 3   \n",
       "..   ...   ...         ...     ...            ...       ...               ...   \n",
       "669    3     3           5       2              5         4                 3   \n",
       "670    4     4           4       3              3         3                 5   \n",
       "671    3     4           3       1              1         1                 2   \n",
       "672    3     4           2       2              2         3                 2   \n",
       "673    4     1           3       2              3         5                 4   \n",
       "\n",
       "     Entertainment_spending  Spending_on_looks  Spending_on_gadgets  \n",
       "0                         3                  3                    1  \n",
       "1                         4                  2                    5  \n",
       "2                         4                  3                    4  \n",
       "3                         3                  3                    2  \n",
       "4                         3                  1                    4  \n",
       "..                      ...                ...                  ...  \n",
       "669                       4                  4                    4  \n",
       "670                       3                  4                    3  \n",
       "671                       2                  2                    2  \n",
       "672                       5                  3                    3  \n",
       "673                       3                  1                    1  \n",
       "\n",
       "[674 rows x 10 columns]"
      ]
     },
     "execution_count": 33,
     "metadata": {},
     "output_type": "execute_result"
    }
   ],
   "source": [
    "# https://stackoverflow.com/questions/29221502/pandas-selecting-discontinuous-columns-from-a-dataframe\n",
    "\n",
    "research4 = pd.concat([research.iloc[:,2:7],research.iloc[:,12:17]], axis=1)\n",
    "research4"
   ]
  },
  {
   "cell_type": "code",
   "execution_count": 32,
   "metadata": {},
   "outputs": [
    {
     "name": "stdout",
     "output_type": "stream",
     "text": [
      "                             Pop      Rock  Hiphop_Rap    Latino  \\\n",
      "Pop                     1.000000 -0.043662    0.293387  0.281049   \n",
      "Rock                   -0.043662  1.000000   -0.209140 -0.047623   \n",
      "Hiphop_Rap              0.293387 -0.209140    1.000000  0.138688   \n",
      "Latino                  0.281049 -0.047623    0.138688  1.000000   \n",
      "Techno_Trance           0.174364 -0.096778    0.290704  0.108900   \n",
      "Finances                0.038729 -0.019486   -0.074241  0.065314   \n",
      "Shopping_centres        0.284569 -0.109653    0.152168  0.121281   \n",
      "Entertainment_spending -0.052005  0.061524    0.131637 -0.098175   \n",
      "Spending_on_looks       0.207427 -0.125001    0.238930  0.074734   \n",
      "Spending_on_gadgets     0.063326 -0.000425    0.153413 -0.113511   \n",
      "\n",
      "                        Techno_Trance  Finances  Shopping_centres  \\\n",
      "Pop                          0.174364  0.038729          0.284569   \n",
      "Rock                        -0.096778 -0.019486         -0.109653   \n",
      "Hiphop_Rap                   0.290704 -0.074241          0.152168   \n",
      "Latino                       0.108900  0.065314          0.121281   \n",
      "Techno_Trance                1.000000 -0.072385          0.090273   \n",
      "Finances                    -0.072385  1.000000         -0.012843   \n",
      "Shopping_centres             0.090273 -0.012843          1.000000   \n",
      "Entertainment_spending       0.120726 -0.310083          0.101881   \n",
      "Spending_on_looks            0.101583 -0.181401          0.464543   \n",
      "Spending_on_gadgets          0.113481 -0.107552          0.115706   \n",
      "\n",
      "                        Entertainment_spending  Spending_on_looks  \\\n",
      "Pop                                  -0.052005           0.207427   \n",
      "Rock                                  0.061524          -0.125001   \n",
      "Hiphop_Rap                            0.131637           0.238930   \n",
      "Latino                               -0.098175           0.074734   \n",
      "Techno_Trance                         0.120726           0.101583   \n",
      "Finances                             -0.310083          -0.181401   \n",
      "Shopping_centres                      0.101881           0.464543   \n",
      "Entertainment_spending                1.000000           0.392142   \n",
      "Spending_on_looks                     0.392142           1.000000   \n",
      "Spending_on_gadgets                   0.332565           0.305473   \n",
      "\n",
      "                        Spending_on_gadgets  \n",
      "Pop                                0.063326  \n",
      "Rock                              -0.000425  \n",
      "Hiphop_Rap                         0.153413  \n",
      "Latino                            -0.113511  \n",
      "Techno_Trance                      0.113481  \n",
      "Finances                          -0.107552  \n",
      "Shopping_centres                   0.115706  \n",
      "Entertainment_spending             0.332565  \n",
      "Spending_on_looks                  0.305473  \n",
      "Spending_on_gadgets                1.000000  \n"
     ]
    },
    {
     "data": {
      "image/png": "[encoded data removed]",
      "text/plain": [
       "<Figure size 432x288 with 2 Axes>"
      ]
     },
     "metadata": {
      "needs_background": "light"
     },
     "output_type": "display_data"
    }
   ],
   "source": [
    "corr = research4.corr()\n",
    "sns.heatmap(corr, \n",
    "            xticklabels=corr.columns.values,\n",
    "            yticklabels=corr.columns.values)\n",
    "print(corr)"
   ]
  },
  {
   "cell_type": "markdown",
   "metadata": {},
   "source": [
    "### **Research Question 6**\n",
    "Can a person's living environment affect their preference for Pop, Rock, HipHop/Rap, Latin and Techno music?"
   ]
  },
  {
   "cell_type": "code",
   "execution_count": 10,
   "metadata": {},
   "outputs": [
    {
     "data": {
      "text/plain": [
       "<matplotlib.axes._subplots.AxesSubplot at 0x7f4faeafba58>"
      ]
     },
     "execution_count": 10,
     "metadata": {},
     "output_type": "execute_result"
    },
    {
     "data": {
      "image/png": "[encoded data removed]",
      "text/plain": [
       "<Figure size 432x288 with 1 Axes>"
      ]
     },
     "metadata": {
      "needs_background": "light"
     },
     "output_type": "display_data"
    }
   ],
   "source": [
    "pop_likes_df = research2[research2['Pop'] == 'like']\n",
    "# calling the Pop coloumn values that only equal like, and running it to make sure it prints correctly\n",
    "# pop_likes_df\n",
    "\n",
    "pop_v_envir =pop_likes_df['Village-town'].value_counts().plot(kind='barh', color= 'coral')\n",
    "\n",
    "# labels\n",
    "plt.title('Pop Music vs Environment')\n",
    "plt.ylabel('Environment')\n",
    "plt.xlabel('Frequency')\n",
    "plt.xticks(rotation='horizontal')\n",
    "\n",
    "pop_v_envir"
   ]
  },
  {
   "cell_type": "code",
   "execution_count": 36,
   "metadata": {},
   "outputs": [
    {
     "data": {
      "text/plain": [
       "<matplotlib.axes._subplots.AxesSubplot at 0x7fd0bd90a860>"
      ]
     },
     "execution_count": 36,
     "metadata": {},
     "output_type": "execute_result"
    },
    {
     "data": {
      "image/png": "[encoded data removed]",
      "text/plain": [
       "<Figure size 432x288 with 1 Axes>"
      ]
     },
     "metadata": {
      "needs_background": "light"
     },
     "output_type": "display_data"
    }
   ],
   "source": [
    "rock_likes_df = research2[research2['Rock'] == 'like']\n",
    "\n",
    "rock_v_envir =rock_likes_df['Village-town'].value_counts().plot(kind='barh', color= 'dodgerblue')\n",
    "\n",
    "# labels\n",
    "plt.title('Rock Music vs Environment')\n",
    "plt.ylabel('Enviornment')\n",
    "plt.xlabel('Frequency')\n",
    "plt.xticks(rotation='horizontal')\n",
    "\n",
    "rock_v_envir"
   ]
  },
  {
   "cell_type": "code",
   "execution_count": 37,
   "metadata": {},
   "outputs": [
    {
     "data": {
      "text/plain": [
       "<matplotlib.axes._subplots.AxesSubplot at 0x7fd0bda3deb8>"
      ]
     },
     "execution_count": 37,
     "metadata": {},
     "output_type": "execute_result"
    },
    {
     "data": {
      "image/png": "[encoded data removed]",
      "text/plain": [
       "<Figure size 432x288 with 1 Axes>"
      ]
     },
     "metadata": {
      "needs_background": "light"
     },
     "output_type": "display_data"
    }
   ],
   "source": [
    "Techno_likes_df = research2[research2['Techno_Trance'] == 'like']\n",
    "\n",
    "techno_v_envir =Techno_likes_df['Village-town'].value_counts().plot(kind='barh', color= 'lime')\n",
    "\n",
    "# labels\n",
    "plt.title('Techno/Trance Music vs Environment')\n",
    "plt.ylabel('Enviornment')\n",
    "plt.xlabel('Frequency')\n",
    "plt.xticks(rotation='horizontal')\n",
    "\n",
    "techno_v_envir"
   ]
  },
  {
   "cell_type": "code",
   "execution_count": 38,
   "metadata": {},
   "outputs": [
    {
     "data": {
      "text/plain": [
       "<matplotlib.axes._subplots.AxesSubplot at 0x7fd0bd96c9b0>"
      ]
     },
     "execution_count": 38,
     "metadata": {},
     "output_type": "execute_result"
    },
    {
     "data": {
      "image/png": "[encoded data removed]",
      "text/plain": [
       "<Figure size 432x288 with 1 Axes>"
      ]
     },
     "metadata": {
      "needs_background": "light"
     },
     "output_type": "display_data"
    }
   ],
   "source": [
    "Hiphop_likes_df = research2[research2['Hiphop_Rap'] == 'like']\n",
    "\n",
    "Hiphop_v_envir =Hiphop_likes_df['Village-town'].value_counts().plot(kind='barh', color= 'yellow')\n",
    "\n",
    "# labels\n",
    "plt.title('Hiphop Rap Music vs Environment')\n",
    "plt.ylabel('Enviornment')\n",
    "plt.xlabel('Frequency')\n",
    "plt.xticks(rotation='horizontal')\n",
    "\n",
    "Hiphop_v_envir"
   ]
  },
  {
   "cell_type": "code",
   "execution_count": 39,
   "metadata": {},
   "outputs": [
    {
     "data": {
      "text/plain": [
       "<matplotlib.axes._subplots.AxesSubplot at 0x7fd0bd9f9e80>"
      ]
     },
     "execution_count": 39,
     "metadata": {},
     "output_type": "execute_result"
    },
    {
     "data": {
      "image/png": "[encoded data removed]",
      "text/plain": [
       "<Figure size 432x288 with 1 Axes>"
      ]
     },
     "metadata": {
      "needs_background": "light"
     },
     "output_type": "display_data"
    }
   ],
   "source": [
    "Latino_likes_df = research2[research2['Latino'] == 'like']\n",
    "\n",
    "Latino_v_envir =Latino_likes_df['Village-town'].value_counts().plot(kind='barh', color= 'red')\n",
    "\n",
    "# labels\n",
    "plt.title('Latino Music vs Environment')\n",
    "plt.ylabel('Enviornment')\n",
    "plt.xlabel('Frequency')\n",
    "plt.xticks(rotation='horizontal')\n",
    "\n",
    "Latino_v_envir"
   ]
  }
 ],
 "metadata": {
  "kernelspec": {
   "display_name": "Python 3",
   "language": "python",
   "name": "python3"
  },
  "language_info": {
   "codemirror_mode": {
    "name": "ipython",
    "version": 3
   },
   "file_extension": ".py",
   "mimetype": "text/x-python",
   "name": "python",
   "nbconvert_exporter": "python",
   "pygments_lexer": "ipython3",
   "version": "3.7.1 (default, Dec 10 2018, 22:54:23) [MSC v.1915 64 bit (AMD64)]"
  },
  "vscode": {
   "interpreter": {
    "hash": "7dd15e51a4470d085f7a243fb04650bc4fe166c7b9d4ae5b8d1a77af89f8b74e"
   }
  }
 },
 "nbformat": 4,
 "nbformat_minor": 2
}
